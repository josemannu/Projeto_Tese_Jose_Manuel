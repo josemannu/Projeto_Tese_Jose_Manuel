version https://git-lfs.github.com/spec/v1
oid sha256:57964f267ebc257d55fa03aaf3446e6f8a4d6db2fae9fc5bfdf28043c8c31d70
size 21864461
