version https://git-lfs.github.com/spec/v1
oid sha256:d62f6ec753562e22ab3adab068658a347a25155d4783f99916435cd77a0f0c5d
size 25845618
